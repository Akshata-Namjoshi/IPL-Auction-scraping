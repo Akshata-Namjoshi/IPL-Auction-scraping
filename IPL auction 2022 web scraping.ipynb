{
 "cells": [
  {
   "cell_type": "code",
   "execution_count": 1,
   "id": "ae5117f1",
   "metadata": {},
   "outputs": [],
   "source": [
    "import pandas as pd\n",
    "import requests\n",
    "from bs4 import BeautifulSoup"
   ]
  },
  {
   "cell_type": "code",
   "execution_count": 2,
   "id": "3341152b",
   "metadata": {},
   "outputs": [
    {
     "name": "stdout",
     "output_type": "stream",
     "text": [
      "<Response [200]>\n"
     ]
    }
   ],
   "source": [
    "url = 'https://www.iplt20.com/auction'\n",
    "r = requests.get(url)\n",
    "print(r)"
   ]
  },
  {
   "cell_type": "code",
   "execution_count": 3,
   "id": "533c4de6",
   "metadata": {},
   "outputs": [
    {
     "name": "stdout",
     "output_type": "stream",
     "text": [
      "<table class=\"ih-td-tab auction-tbl\" id=\"t3\" width=\"100%\">\n",
      "<thead>\n",
      "<tr class=\"ih-pt-tbl\" style=\"display:revert\">\n",
      "<th class=\"skip-filter\" style=\"width:25%;text-align: left;\">TEAM</th>\n",
      "<th class=\"skip-filter\" style=\"width:25%;\">FUNDS REMAINING</th>\n",
      "<th class=\"skip-filter\" style=\"width:25%;\">OVERSEAS PLAYERS </th>\n",
      "<th class=\"skip-filter\" style=\"width:25%;\">TOTAL PLAYERS</th>\n",
      "</tr>\n",
      "<thead>\n",
      "</thead></thead><tbody id=\"pointsdata\">\n",
      "<tr>\n",
      "<td class=\"ih-t-color\">\n",
      "<div class=\"ih-pt-ic\">\n",
      "<div class=\"ih-pt-img\" style=\"width: 60px\">\n",
      "<img alt=\"\" src=\"https://bcciplayerimages.s3.ap-south-1.amazonaws.com/ipl/franchises/1702465555_CSKroundbig.png\"/>\n",
      "</div>\n",
      "<h2 class=\"ih-pt-cont\">Chennai Super Kings</h2>\n",
      "</div>\n",
      "</td>\n",
      "<td>₹1,00,00,000</td>\n",
      "<td>8</td>\n",
      "<td>25</td>\n",
      "</tr>\n",
      "<tr>\n",
      "<td class=\"ih-t-color\">\n",
      "<div class=\"ih-pt-ic\">\n",
      "<div class=\"ih-pt-img\" style=\"width: 60px\">\n",
      "<img alt=\"\" src=\"https://bcciplayerimages.s3.ap-south-1.amazonaws.com/ipl/franchises/1702465727_DCroundbig.png\"/>\n",
      "</div>\n",
      "<h2 class=\"ih-pt-cont\">Delhi Capitals</h2>\n",
      "</div>\n",
      "</td>\n",
      "<td>₹9,90,00,000</td>\n",
      "<td>8</td>\n",
      "<td>25</td>\n",
      "</tr>\n",
      "<tr>\n",
      "<td class=\"ih-t-color\">\n",
      "<div class=\"ih-pt-ic\">\n",
      "<div class=\"ih-pt-img\" style=\"width: 60px\">\n",
      "<img alt=\"\" src=\"https://bcciplayerimages.s3.ap-south-1.amazonaws.com/ipl/franchises/1702465836_GTroundbig.png\"/>\n",
      "</div>\n",
      "<h2 class=\"ih-pt-cont\">Gujarat Titans</h2>\n",
      "</div>\n",
      "</td>\n",
      "<td>₹7,85,00,000</td>\n",
      "<td>8</td>\n",
      "<td>25</td>\n",
      "</tr>\n",
      "<tr>\n",
      "<td class=\"ih-t-color\">\n",
      "<div class=\"ih-pt-ic\">\n",
      "<div class=\"ih-pt-img\" style=\"width: 60px\">\n",
      "<img alt=\"\" src=\"https://bcciplayerimages.s3.ap-south-1.amazonaws.com/ipl/franchises/1702465948_KKRroundbig.png\"/>\n",
      "</div>\n",
      "<h2 class=\"ih-pt-cont\">Kolkata Knight Riders</h2>\n",
      "</div>\n",
      "</td>\n",
      "<td>₹1,35,00,000</td>\n",
      "<td>8</td>\n",
      "<td>23</td>\n",
      "</tr>\n",
      "<tr>\n",
      "<td class=\"ih-t-color\">\n",
      "<div class=\"ih-pt-ic\">\n",
      "<div class=\"ih-pt-img\" style=\"width: 60px\">\n",
      "<img alt=\"\" src=\"https://bcciplayerimages.s3.ap-south-1.amazonaws.com/ipl/franchises/1702466030_LSGroundbig.png\"/>\n",
      "</div>\n",
      "<h2 class=\"ih-pt-cont\">Lucknow Super Giants</h2>\n",
      "</div>\n",
      "</td>\n",
      "<td>₹95,00,000</td>\n",
      "<td>8</td>\n",
      "<td>25</td>\n",
      "</tr>\n",
      "<tr>\n",
      "<td class=\"ih-t-color\">\n",
      "<div class=\"ih-pt-ic\">\n",
      "<div class=\"ih-pt-img\" style=\"width: 60px\">\n",
      "<img alt=\"\" src=\"https://bcciplayerimages.s3.ap-south-1.amazonaws.com/ipl/franchises/1702466090_MIroundbig.png\"/>\n",
      "</div>\n",
      "<h2 class=\"ih-pt-cont\">Mumbai Indians</h2>\n",
      "</div>\n",
      "</td>\n",
      "<td>₹1,05,00,000</td>\n",
      "<td>8</td>\n",
      "<td>25</td>\n",
      "</tr>\n",
      "<tr>\n",
      "<td class=\"ih-t-color\">\n",
      "<div class=\"ih-pt-ic\">\n",
      "<div class=\"ih-pt-img\" style=\"width: 60px\">\n",
      "<img alt=\"\" src=\"https://bcciplayerimages.s3.ap-south-1.amazonaws.com/ipl/franchises/1702466143_PBKSroundbig.png\"/>\n",
      "</div>\n",
      "<h2 class=\"ih-pt-cont\">Punjab Kings</h2>\n",
      "</div>\n",
      "</td>\n",
      "<td>₹4,15,00,000</td>\n",
      "<td>8</td>\n",
      "<td>25</td>\n",
      "</tr>\n",
      "<tr>\n",
      "<td class=\"ih-t-color\">\n",
      "<div class=\"ih-pt-ic\">\n",
      "<div class=\"ih-pt-img\" style=\"width: 60px\">\n",
      "<img alt=\"\" src=\"https://bcciplayerimages.s3.ap-south-1.amazonaws.com/ipl/franchises/1702466295_RRroundbig.png\"/>\n",
      "</div>\n",
      "<h2 class=\"ih-pt-cont\">Rajasthan Royals</h2>\n",
      "</div>\n",
      "</td>\n",
      "<td>₹20,00,000</td>\n",
      "<td>8</td>\n",
      "<td>22</td>\n",
      "</tr>\n",
      "<tr>\n",
      "<td class=\"ih-t-color\">\n",
      "<div class=\"ih-pt-ic\">\n",
      "<div class=\"ih-pt-img\" style=\"width: 60px\">\n",
      "<img alt=\"\" src=\"https://bcciplayerimages.s3.ap-south-1.amazonaws.com/ipl/franchises/1702466217_RCBroundbig.png\"/>\n",
      "</div>\n",
      "<h2 class=\"ih-pt-cont\">Royal Challengers Bangalore</h2>\n",
      "</div>\n",
      "</td>\n",
      "<td>₹2,85,00,000</td>\n",
      "<td>8</td>\n",
      "<td>25</td>\n",
      "</tr>\n",
      "<tr>\n",
      "<td class=\"ih-t-color\">\n",
      "<div class=\"ih-pt-ic\">\n",
      "<div class=\"ih-pt-img\" style=\"width: 60px\">\n",
      "<img alt=\"\" src=\"https://bcciplayerimages.s3.ap-south-1.amazonaws.com/ipl/franchises/1702466366_SRHroundbig.png\"/>\n",
      "</div>\n",
      "<h2 class=\"ih-pt-cont\">Sunrisers Hyderabad</h2>\n",
      "</div>\n",
      "</td>\n",
      "<td>₹3,20,00,000</td>\n",
      "<td>8</td>\n",
      "<td>25</td>\n",
      "</tr>\n",
      "</tbody>\n",
      "</table>\n"
     ]
    }
   ],
   "source": [
    "soup = BeautifulSoup(r.text, 'lxml')\n",
    "\n",
    "table = soup.find('table', class_ = 'ih-td-tab auction-tbl')\n",
    "print(table)"
   ]
  },
  {
   "cell_type": "code",
   "execution_count": 4,
   "id": "a3b13290",
   "metadata": {},
   "outputs": [
    {
     "name": "stdout",
     "output_type": "stream",
     "text": [
      "['TEAM', 'FUNDS REMAINING', 'OVERSEAS PLAYERS ', 'TOTAL PLAYERS']\n"
     ]
    }
   ],
   "source": [
    "headers = table.find_all('th')\n",
    "header_list = []\n",
    "\n",
    "for i in headers:\n",
    "    data = i.text\n",
    "    header_list.append(data)\n",
    "    \n",
    "print(header_list)"
   ]
  },
  {
   "cell_type": "code",
   "execution_count": 5,
   "id": "873149bb",
   "metadata": {},
   "outputs": [
    {
     "name": "stdout",
     "output_type": "stream",
     "text": [
      "Empty DataFrame\n",
      "Columns: [TEAM, FUNDS REMAINING, OVERSEAS PLAYERS , TOTAL PLAYERS]\n",
      "Index: []\n"
     ]
    }
   ],
   "source": [
    "df = pd.DataFrame(columns = header_list)\n",
    "print(df)"
   ]
  },
  {
   "cell_type": "code",
   "execution_count": 6,
   "id": "1368d04c",
   "metadata": {},
   "outputs": [
    {
     "name": "stdout",
     "output_type": "stream",
     "text": [
      "                          TEAM FUNDS REMAINING OVERSEAS PLAYERS  TOTAL PLAYERS\n",
      "0          Chennai Super Kings    ₹1,00,00,000                 8            25\n",
      "1               Delhi Capitals    ₹9,90,00,000                 8            25\n",
      "2               Gujarat Titans    ₹7,85,00,000                 8            25\n",
      "3        Kolkata Knight Riders    ₹1,35,00,000                 8            23\n",
      "4         Lucknow Super Giants      ₹95,00,000                 8            25\n",
      "5               Mumbai Indians    ₹1,05,00,000                 8            25\n",
      "6                 Punjab Kings    ₹4,15,00,000                 8            25\n",
      "7             Rajasthan Royals      ₹20,00,000                 8            22\n",
      "8  Royal Challengers Bangalore    ₹2,85,00,000                 8            25\n",
      "9          Sunrisers Hyderabad    ₹3,20,00,000                 8            25\n"
     ]
    }
   ],
   "source": [
    "rows = table.find_all('tr')\n",
    "#print(rows)\n",
    "\n",
    "for i in rows[1:]:\n",
    "    first_rows = i.find_all('td')[0].find('div', class_ = 'ih-pt-ic').text.strip()\n",
    "    data = i.find_all('td')[1:]\n",
    "    row = [tr.text for tr in data]\n",
    "    row.insert(0, first_rows)\n",
    "    l = len(df)\n",
    "    df.loc[l] = row\n",
    "    \n",
    "print(df)"
   ]
  },
  {
   "cell_type": "code",
   "execution_count": 7,
   "id": "8ef0b23e",
   "metadata": {},
   "outputs": [
    {
     "name": "stdout",
     "output_type": "stream",
     "text": [
      "   Unnamed: 0                         TEAM FUNDS REMAINING  OVERSEAS PLAYERS   \\\n",
      "0           0          Chennai Super Kings    ₹1,00,00,000                  8   \n",
      "1           1               Delhi Capitals    ₹9,90,00,000                  8   \n",
      "2           2               Gujarat Titans    ₹7,85,00,000                  8   \n",
      "3           3        Kolkata Knight Riders    ₹1,35,00,000                  8   \n",
      "4           4         Lucknow Super Giants      ₹95,00,000                  8   \n",
      "5           5               Mumbai Indians    ₹1,05,00,000                  8   \n",
      "6           6                 Punjab Kings    ₹4,15,00,000                  8   \n",
      "7           7             Rajasthan Royals      ₹20,00,000                  8   \n",
      "8           8  Royal Challengers Bangalore    ₹2,85,00,000                  8   \n",
      "9           9          Sunrisers Hyderabad    ₹3,20,00,000                  8   \n",
      "\n",
      "   TOTAL PLAYERS  \n",
      "0             25  \n",
      "1             25  \n",
      "2             25  \n",
      "3             23  \n",
      "4             25  \n",
      "5             25  \n",
      "6             25  \n",
      "7             22  \n",
      "8             25  \n",
      "9             25  \n"
     ]
    }
   ],
   "source": [
    "df.to_csv('IPL 2022 Auction.csv')\n",
    "tables = pd.read_csv(\"IPL 2022 Auction.csv\")\n",
    "print(tables)"
   ]
  },
  {
   "cell_type": "code",
   "execution_count": null,
   "id": "b6b0f1c0",
   "metadata": {},
   "outputs": [],
   "source": []
  }
 ],
 "metadata": {
  "kernelspec": {
   "display_name": "Python 3 (ipykernel)",
   "language": "python",
   "name": "python3"
  },
  "language_info": {
   "codemirror_mode": {
    "name": "ipython",
    "version": 3
   },
   "file_extension": ".py",
   "mimetype": "text/x-python",
   "name": "python",
   "nbconvert_exporter": "python",
   "pygments_lexer": "ipython3",
   "version": "3.10.9"
  }
 },
 "nbformat": 4,
 "nbformat_minor": 5
}
